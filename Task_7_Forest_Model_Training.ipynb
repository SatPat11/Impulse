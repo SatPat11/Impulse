{
  "nbformat": 4,
  "nbformat_minor": 0,
  "metadata": {
    "colab": {
      "provenance": []
    },
    "kernelspec": {
      "name": "python3",
      "display_name": "Python 3"
    },
    "language_info": {
      "name": "python"
    }
  },
  "cells": [
    {
      "cell_type": "code",
      "source": [
        "import os\n",
        "\n",
        "\n",
        "os.listdir('/content/')\n"
      ],
      "metadata": {
        "colab": {
          "base_uri": "https://localhost:8080/"
        },
        "id": "R7Ux20mqkl1D",
        "outputId": "36586f3c-6616-4621-ba59-03c03f8bcb44"
      },
      "execution_count": 2,
      "outputs": [
        {
          "output_type": "execute_result",
          "data": {
            "text/plain": [
              "['.config',\n",
              " 'normal.csv',\n",
              " 'complex.csv',\n",
              " 'video.csv',\n",
              " 'electro.csv',\n",
              " 'sample_data']"
            ]
          },
          "metadata": {},
          "execution_count": 2
        }
      ]
    },
    {
      "cell_type": "code",
      "source": [
        "import pandas as pd\n",
        "\n",
        "# Load each CSV file (replace the names with your actual file names)\n",
        "df_complex_partial = pd.read_csv('/content/complex.csv')\n",
        "df_electrographic = pd.read_csv('/content/electro.csv')\n",
        "df_video_detected = pd.read_csv('/content/video.csv')\n",
        "df_normal = pd.read_csv('/content/normal.csv')\n",
        "\n",
        "df_complex_partial['label'] = 1  # Complex Partial Seizures\n",
        "df_electrographic['label'] = 2   # Electrographic Seizures\n",
        "df_video_detected['label'] = 3   # Video-detected Seizures\n",
        "df_normal['label'] = 0           # Normal Data\n",
        "\n",
        "# Concatenate\n",
        "df_all = pd.concat([df_complex_partial, df_electrographic, df_video_detected, df_normal], ignore_index=True)\n",
        "\n",
        "X = df_all.drop(columns=['label'])  # Format x\n",
        "y = df_all['label']  # Labels\n",
        "\n",
        "df_all.to_csv('/content/combined_eeg_data_with_labels.csv', index=False)\n",
        "\n"
      ],
      "metadata": {
        "id": "D8ZLz96eme8y"
      },
      "execution_count": 3,
      "outputs": []
    },
    {
      "cell_type": "code",
      "source": [
        "X['file_name'] = X['file_name'].str.slice(0, -4) #remove .npy thing"
      ],
      "metadata": {
        "id": "Yg2l7s7ymlcv"
      },
      "execution_count": 4,
      "outputs": []
    },
    {
      "cell_type": "code",
      "source": [
        "from sklearn.preprocessing import StandardScaler\n",
        "\n",
        "#Drop the 'file_name' column from X\n",
        "X_data = X.drop(columns=['file_name'])\n",
        "\n",
        "# Standardize/Normalize the features\n",
        "scaler = StandardScaler()  # standardizes the data (mean=0, std=1)\n",
        "\n",
        "# Fit the scaler and transform the data\n",
        "X_scaled = scaler.fit_transform(X_data)\n"
      ],
      "metadata": {
        "id": "ayyhX3gtmvGC"
      },
      "execution_count": 5,
      "outputs": []
    },
    {
      "cell_type": "code",
      "source": [
        "from sklearn.model_selection import train_test_split\n",
        "from sklearn.ensemble import RandomForestClassifier\n",
        "from sklearn.metrics import accuracy_score\n",
        "\n",
        "# Split the data into training and test sets\n",
        "X_train, X_test, y_train, y_test = train_test_split(X_scaled, y, test_size=0.2, random_state=42)\n",
        "\n",
        "# Step 4: Train a classifier, for example, RandomForest\n",
        "clf = RandomForestClassifier(n_estimators=100, random_state=42)\n",
        "clf.fit(X_train, y_train)\n",
        "\n",
        "# Step 5: Predict and evaluate\n",
        "y_pred = clf.predict(X_test)\n",
        "print(f\"Accuracy for the model using train: {accuracy_score(y_test, y_pred)}\")\n"
      ],
      "metadata": {
        "colab": {
          "base_uri": "https://localhost:8080/"
        },
        "id": "NH4iXiT0mxfA",
        "outputId": "266ddfb5-e537-4e44-fb72-cc30ef493aa4"
      },
      "execution_count": 6,
      "outputs": [
        {
          "output_type": "stream",
          "name": "stdout",
          "text": [
            "Accuracy for the model using train: 0.7890291398808127\n"
          ]
        }
      ]
    },
    {
      "cell_type": "code",
      "source": [
        "print(f'The number of parameters is {X_train.shape[1] - 2}')"
      ],
      "metadata": {
        "colab": {
          "base_uri": "https://localhost:8080/"
        },
        "id": "HAqIFp5fmzNu",
        "outputId": "4165bab1-f050-4478-97df-65f2b437d3c2"
      },
      "execution_count": 9,
      "outputs": [
        {
          "output_type": "stream",
          "name": "stdout",
          "text": [
            "The number of parameters is 8\n"
          ]
        }
      ]
    },
    {
      "cell_type": "code",
      "source": [],
      "metadata": {
        "id": "TY8_djAqNtrK"
      },
      "execution_count": null,
      "outputs": []
    }
  ]
}