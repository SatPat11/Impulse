{
  "nbformat": 4,
  "nbformat_minor": 0,
  "metadata": {
    "colab": {
      "provenance": []
    },
    "kernelspec": {
      "name": "python3",
      "display_name": "Python 3"
    },
    "language_info": {
      "name": "python"
    }
  },
  "cells": [
    {
      "cell_type": "code",
      "source": [
        "import numpy as np\n",
        "import os\n",
        "import pandas as pd\n",
        "from scipy.fft import fft, fftfreq\n",
        "\n",
        "# Path to the folder containing .npy files\n",
        "train_data_path = \"/content/\"\n",
        "\n",
        "# List all .npy files in the folder\n",
        "file_list = [f for f in os.listdir(train_data_path) if f.endswith('.npy')]\n",
        "\n",
        "# Function to extract FFT coefficients\n",
        "def extract_fft_coefficients(eeg_data, sampling_rate=500):\n",
        "    coefficients = []\n",
        "    n = eeg_data.shape[1]  # Number of time points (500)\n",
        "    frequencies = fftfreq(n, d=1/sampling_rate)  # Frequency bins\n",
        "\n",
        "    for channel in range(eeg_data.shape[0]):  # Loop through 19 channels\n",
        "        signal = eeg_data[channel, :]\n",
        "        fft_values = fft(signal)  # Get the FFT coefficients (complex values)\n",
        "\n",
        "        # Take only the positive frequencies (one-sided spectrum)\n",
        "        positive_freqs = frequencies[:n//2]\n",
        "        positive_fft_values = np.abs(fft_values[:n//2])  # Use magnitude of FFT coefficients\n",
        "\n",
        "        # Store the frequencies and corresponding FFT magnitudes\n",
        "        for freq, fft_val in zip(positive_freqs, positive_fft_values):\n",
        "            coefficients.append({\n",
        "                \"channel\": channel + 1,  # Channel number (1-based index)\n",
        "                \"frequency\": freq,\n",
        "                \"fft_magnitude\": fft_val\n",
        "            })\n",
        "    return coefficients\n",
        "\n",
        "# List to hold all the data for CSV saving\n",
        "all_fft_data = []\n",
        "\n",
        "# Loop through all .npy files in the folder\n",
        "for file_name in file_list:\n",
        "    file_path = os.path.join(train_data_path, file_name)\n",
        "    eeg_data = np.load(file_path)  # Shape: (19, 500)\n",
        "\n",
        "    # Extract Fourier Transform coefficients (FFT)\n",
        "    fft_coefficients = extract_fft_coefficients(eeg_data)\n",
        "\n",
        "    # Add file name to each entry (for reference)\n",
        "    for entry in fft_coefficients:\n",
        "        entry[\"file_name\"] = file_name\n",
        "\n",
        "    # Add the results to the overall list\n",
        "    all_fft_data.extend(fft_coefficients)\n",
        "\n",
        "# Convert the data to a pandas DataFrame\n",
        "df = pd.DataFrame(all_fft_data)\n",
        "\n",
        "# Save to CSV\n",
        "output_file = \"/content/Out/complex_fft_feature_results.csv\"\n",
        "df.to_csv(output_file, index=False)\n",
        "\n",
        "print(f\"FFT coefficients saved to {output_file}\")\n"
      ],
      "metadata": {
        "id": "n6Dp50e3AokL",
        "outputId": "0a8102db-6640-4e6e-e3c5-3959ceb60d7b",
        "colab": {
          "base_uri": "https://localhost:8080/"
        }
      },
      "execution_count": 3,
      "outputs": [
        {
          "output_type": "stream",
          "name": "stdout",
          "text": [
            "FFT coefficients saved to /content/Out/complex_fft_feature_results.csv\n"
          ]
        }
      ]
    },
    {
      "cell_type": "code",
      "source": [],
      "metadata": {
        "id": "CUmzaEvDApp5"
      },
      "execution_count": null,
      "outputs": []
    }
  ]
}